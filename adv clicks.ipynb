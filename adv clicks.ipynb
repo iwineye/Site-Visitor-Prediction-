{
 "cells": [
  {
   "cell_type": "code",
   "execution_count": 2,
   "id": "4348cdd7",
   "metadata": {},
   "outputs": [],
   "source": [
    "import pandas as pd\n",
    "import numpy as np\n",
    "import matplotlib.pyplot as plt\n",
    "import seaborn as sns\n",
    "%matplotlib inline"
   ]
  },
  {
   "cell_type": "code",
   "execution_count": 3,
   "id": "fa07dc2a",
   "metadata": {},
   "outputs": [],
   "source": [
    "ad_data = pd.read_csv('advertising.csv')"
   ]
  },
  {
   "cell_type": "code",
   "execution_count": 4,
   "id": "44178951",
   "metadata": {},
   "outputs": [],
   "source": [
    "from sklearn.model_selection import train_test_split"
   ]
  },
  {
   "cell_type": "code",
   "execution_count": 5,
   "id": "77b9b408",
   "metadata": {},
   "outputs": [],
   "source": [
    "X = ad_data[['Daily Time Spent on Site', 'Age', 'Area Income','Daily Internet Usage', 'Male']]\n",
    "y = ad_data['Clicked on Ad']"
   ]
  },
  {
   "cell_type": "code",
   "execution_count": 6,
   "id": "c1f77ca3",
   "metadata": {},
   "outputs": [],
   "source": [
    "X_train, X_test, y_train, y_test = train_test_split(X, y, test_size=0.33, random_state=42)"
   ]
  },
  {
   "cell_type": "code",
   "execution_count": 7,
   "id": "a78f7dac",
   "metadata": {},
   "outputs": [],
   "source": [
    "from sklearn.linear_model import LogisticRegression"
   ]
  },
  {
   "cell_type": "code",
   "execution_count": 8,
   "id": "963215e9",
   "metadata": {},
   "outputs": [
    {
     "data": {
      "text/plain": [
       "LogisticRegression()"
      ]
     },
     "execution_count": 8,
     "metadata": {},
     "output_type": "execute_result"
    }
   ],
   "source": [
    "logmodel = LogisticRegression()\n",
    "logmodel.fit(X_train,y_train)"
   ]
  },
  {
   "cell_type": "code",
   "execution_count": 9,
   "id": "d5f40461",
   "metadata": {},
   "outputs": [
    {
     "data": {
      "text/plain": [
       "703    0\n",
       "311    0\n",
       "722    1\n",
       "629    0\n",
       "0      0\n",
       "      ..\n",
       "106    0\n",
       "270    1\n",
       "860    1\n",
       "435    1\n",
       "102    0\n",
       "Name: Clicked on Ad, Length: 670, dtype: int64"
      ]
     },
     "execution_count": 9,
     "metadata": {},
     "output_type": "execute_result"
    }
   ],
   "source": [
    "y_train"
   ]
  },
  {
   "cell_type": "code",
   "execution_count": 10,
   "id": "c6237db7",
   "metadata": {},
   "outputs": [],
   "source": [
    "predictions = logmodel.predict(X_test)"
   ]
  },
  {
   "cell_type": "code",
   "execution_count": 11,
   "id": "f62c311d",
   "metadata": {},
   "outputs": [],
   "source": [
    "import joblib"
   ]
  },
  {
   "cell_type": "code",
   "execution_count": 14,
   "id": "4e64c14a",
   "metadata": {},
   "outputs": [
    {
     "data": {
      "text/plain": [
       "['ad_click_jl']"
      ]
     },
     "execution_count": 14,
     "metadata": {},
     "output_type": "execute_result"
    }
   ],
   "source": [
    "joblib.dump(logmodel,'ad_click_jl')"
   ]
  },
  {
   "cell_type": "code",
   "execution_count": 15,
   "id": "b7954377",
   "metadata": {},
   "outputs": [],
   "source": [
    "lr=joblib.load('ad_click_jl')"
   ]
  },
  {
   "cell_type": "code",
   "execution_count": 16,
   "id": "3238834f",
   "metadata": {},
   "outputs": [
    {
     "data": {
      "text/plain": [
       "array([1], dtype=int64)"
      ]
     },
     "execution_count": 16,
     "metadata": {},
     "output_type": "execute_result"
    }
   ],
   "source": [
    "lr.predict([[45.01,26,29875.85,18.35,0]])"
   ]
  },
  {
   "cell_type": "code",
   "execution_count": null,
   "id": "f0e23a51",
   "metadata": {},
   "outputs": [],
   "source": [
    "#joblib.dump(logmodel,'web_advt_sales')"
   ]
  },
  {
   "cell_type": "code",
   "execution_count": null,
   "id": "e3699aa3",
   "metadata": {},
   "outputs": [],
   "source": [
    "#model=joblib.load('web_advt_sales')"
   ]
  },
  {
   "cell_type": "code",
   "execution_count": null,
   "id": "24c19e9e",
   "metadata": {},
   "outputs": [],
   "source": [
    "#X_train.columns"
   ]
  },
  {
   "cell_type": "code",
   "execution_count": null,
   "id": "9b17621d",
   "metadata": {},
   "outputs": [],
   "source": [
    "#model.predict([[69.47,26,59785.94,236.50,0]])"
   ]
  },
  {
   "cell_type": "code",
   "execution_count": null,
   "id": "24c14f8f",
   "metadata": {},
   "outputs": [],
   "source": [
    "#45.01,26,29875.85,18.35,0 ---1\n",
    "#51.30,45,67782.17,134.42,1 ---1\n",
    "#69.47,26,59785.94,236.50,0 ---0\n",
    "#69.47\t26\t59785.94\t236.50\t"
   ]
  },
  {
   "cell_type": "markdown",
   "id": "eef38936",
   "metadata": {},
   "source": [
    "CREATING THE PICKLE FILE "
   ]
  },
  {
   "cell_type": "code",
   "execution_count": 17,
   "id": "41b71712",
   "metadata": {},
   "outputs": [],
   "source": [
    "import pickle"
   ]
  },
  {
   "cell_type": "code",
   "execution_count": 18,
   "id": "7e19b7a0",
   "metadata": {},
   "outputs": [],
   "source": [
    "filename='web_traf.pkl'\n",
    "pickle.dump(logmodel,open(filename,'wb'))"
   ]
  },
  {
   "cell_type": "code",
   "execution_count": 19,
   "id": "a77ddb56",
   "metadata": {},
   "outputs": [],
   "source": [
    "with open('advt_clicks','wb') as f:\n",
    "    pickle.dump(logmodel,f)"
   ]
  },
  {
   "cell_type": "code",
   "execution_count": 20,
   "id": "b7009be9",
   "metadata": {},
   "outputs": [],
   "source": [
    "with open('advt_clicks','rb') as f:\n",
    "    click_prob=pickle.load(f)"
   ]
  },
  {
   "cell_type": "code",
   "execution_count": 21,
   "id": "91feacea",
   "metadata": {},
   "outputs": [
    {
     "data": {
      "text/plain": [
       "array([0], dtype=int64)"
      ]
     },
     "execution_count": 21,
     "metadata": {},
     "output_type": "execute_result"
    }
   ],
   "source": [
    "click_prob.predict([[69.47,26,59785.94,236.50,0]])"
   ]
  }
 ],
 "metadata": {
  "kernelspec": {
   "display_name": "Python 3 (ipykernel)",
   "language": "python",
   "name": "python3"
  },
  "language_info": {
   "codemirror_mode": {
    "name": "ipython",
    "version": 3
   },
   "file_extension": ".py",
   "mimetype": "text/x-python",
   "name": "python",
   "nbconvert_exporter": "python",
   "pygments_lexer": "ipython3",
   "version": "3.9.7"
  }
 },
 "nbformat": 4,
 "nbformat_minor": 5
}
